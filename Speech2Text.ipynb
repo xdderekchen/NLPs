{
  "nbformat": 4,
  "nbformat_minor": 0,
  "metadata": {
    "colab": {
      "name": "Speech2Text.ipynb",
      "provenance": [],
      "toc_visible": true,
      "authorship_tag": "ABX9TyMcj11Y+yRgHr/5wAP9O7zY",
      "include_colab_link": true
    },
    "kernelspec": {
      "name": "python3",
      "display_name": "Python 3"
    },
    "accelerator": "GPU"
  },
  "cells": [
    {
      "cell_type": "markdown",
      "metadata": {
        "id": "view-in-github",
        "colab_type": "text"
      },
      "source": [
        "<a href=\"https://colab.research.google.com/github/xdderekchen/NLPs/blob/master/Speech2Text.ipynb\" target=\"_parent\"><img src=\"https://colab.research.google.com/assets/colab-badge.svg\" alt=\"Open In Colab\"/></a>"
      ]
    },
    {
      "cell_type": "markdown",
      "metadata": {
        "id": "240JpoGEx5GN",
        "colab_type": "text"
      },
      "source": [
        "# Speech Recognition \n",
        "\n",
        "Speech Recognition is a part of Natural Language Processing. There are several packages in python supporting speech to text conversion. In the following, we just do a simple exercise to use googe engine and sphinx engine in the googe colab environment."
      ]
    },
    {
      "cell_type": "markdown",
      "metadata": {
        "id": "C5ktYamPo29o",
        "colab_type": "text"
      },
      "source": [
        "## Install packages\n",
        "\n"
      ]
    },
    {
      "cell_type": "code",
      "metadata": {
        "id": "DqoB6zJ9QbYq",
        "colab_type": "code",
        "colab": {}
      },
      "source": [
        "!pip install SpeechRecognition\n",
        "!apt-get install -y swig libpulse-dev\n",
        "!pip install pocketsphinx\n",
        "\n",
        "import pocketsphinx\n",
        "#dir(pocketsphinx)\n",
        "#help(pocketsphinx)\n",
        "\n",
        "import speech_recognition\n",
        "#dir(speech_recognition)\n",
        "#help(speech_recognition)"
      ],
      "execution_count": 0,
      "outputs": []
    },
    {
      "cell_type": "markdown",
      "metadata": {
        "id": "U9a8DFn60PF_",
        "colab_type": "text"
      },
      "source": [
        "## Define functions"
      ]
    },
    {
      "cell_type": "code",
      "metadata": {
        "id": "bPbS9xB0bb2y",
        "colab_type": "code",
        "colab": {}
      },
      "source": [
        "import speech_recognition as sr\n",
        "import pocketsphinx\n",
        "\n",
        "def decode_audio_file(input_file, engine =\"google\"): \n",
        "    '''\n",
        "    input_file: is a audio file in the .wav format\n",
        "    engine: valid values are google, sphinx\n",
        "    '''\n",
        "   \n",
        "    _input_file = input_file\n",
        "    r = sr.Recognizer()\n",
        "    file = sr.AudioFile(_input_file)\n",
        "    with file as source:\n",
        "       audio = r.record(source)\n",
        "    recog = \"\"\n",
        "    try:\n",
        "       if engine == \"google\":\n",
        "          recog = r.recognize_google(audio, language = 'en-US')\n",
        "       elif engine == \"sphinx\":\n",
        "          recog = r.recognize_sphinx(audio, language = 'en-US')\n",
        "       else:\n",
        "          raise Exception('UserError', 'notsupported engine')\n",
        "    except sr.UnknownValueError:\n",
        "       print(engine, \" Speech Recognition could not understand audio\")\n",
        "    except sr.RequestError as e:\n",
        "       print(\"Could not request results from \", engine,    \"Speech Recognition service; {0}\".format(e)) \n",
        "    except UserError as e:\n",
        "       print(e)\n",
        "      \n",
        "    return recog\n"
      ],
      "execution_count": 0,
      "outputs": []
    },
    {
      "cell_type": "markdown",
      "metadata": {
        "id": "KMqFCMoc0W5G",
        "colab_type": "text"
      },
      "source": [
        "## Tests"
      ]
    },
    {
      "cell_type": "markdown",
      "metadata": {
        "id": "Ht5uWS8-0iqH",
        "colab_type": "text"
      },
      "source": [
        "### Test 1, using file from https://www2.cs.uic.edu/~i101/SoundFiles/gettysburg10.wav"
      ]
    },
    {
      "cell_type": "code",
      "metadata": {
        "id": "Ec4UW5a40WQt",
        "colab_type": "code",
        "colab": {
          "base_uri": "https://localhost:8080/",
          "height": 50
        },
        "outputId": "c96bd08b-80f0-4cc3-f848-2499b02b149f"
      },
      "source": [
        "#download file\n",
        "#!wget -O gettysburg10.wav  \"https://www2.cs.uic.edu/~i101/SoundFiles/gettysburg10.wav\"\n",
        "\n",
        "A = decode_audio_file(\"/content/gettysburg10.wav\", \"google\")\n",
        "print(\"GOOG: \", A)\n",
        "\n",
        "B = decode_audio_file(\"/content/gettysburg10.wav\", \"sphinx\")\n",
        "print(\"SPHI: \", B)\n",
        "\n",
        "#As you can see from the output, both engines give a same answer."
      ],
      "execution_count": 40,
      "outputs": [
        {
          "output_type": "stream",
          "text": [
            "GOOG:  four score and seven years ago our fathers brought forth on this continent a new nation conceived in liberty and dedicated to the proposition that all men are created equal\n",
            "SPHI:  four score and seven years ago our fathers brought forth on this continent a new nation conceived in liberty and dedicated to the proposition that all men are created equal\n"
          ],
          "name": "stdout"
        }
      ]
    },
    {
      "cell_type": "markdown",
      "metadata": {
        "id": "LfnOgBOc04l1",
        "colab_type": "text"
      },
      "source": [
        "### Test 2, using file from  https://www2.cs.uic.edu/~i101/SoundFiles/preamble10.wav"
      ]
    },
    {
      "cell_type": "code",
      "metadata": {
        "id": "kEnjdOMO1KD2",
        "colab_type": "code",
        "colab": {
          "base_uri": "https://localhost:8080/",
          "height": 50
        },
        "outputId": "97485872-ac15-44c6-814c-14becf10fb2e"
      },
      "source": [
        "#download file\n",
        "#!wget -O preamble10.wav  https://www2.cs.uic.edu/~i101/SoundFiles/preamble10.wav\n",
        "\n",
        "A = decode_audio_file(\"/content/preamble10.wav\", \"google\")\n",
        "print(\"GOOG: \", A)\n",
        "\n",
        "B = decode_audio_file(\"/content/preamble10.wav\", \"sphinx\")\n",
        "print(\"SPHI: \", B)\n",
        "\n",
        "#As you can see from the output, google engine did a slightly better job."
      ],
      "execution_count": 41,
      "outputs": [
        {
          "output_type": "stream",
          "text": [
            "GOOG:  we the people of the United States in order to form a more perfect union establish justice insure domestic tranquility provide for the common defense\n",
            "SPHI:  we the people of the united states in order to four more perfect union establish justice ensure domestic tranquility provide for the common defense\n"
          ],
          "name": "stdout"
        }
      ]
    },
    {
      "cell_type": "markdown",
      "metadata": {
        "id": "otrl83_U5Dtt",
        "colab_type": "text"
      },
      "source": [
        "### Test 3, using file from https://www2.cs.uic.edu/~i101/SoundFiles/taunt.wav"
      ]
    },
    {
      "cell_type": "code",
      "metadata": {
        "id": "wPHLpGnL34fi",
        "colab_type": "code",
        "colab": {
          "base_uri": "https://localhost:8080/",
          "height": 66
        },
        "outputId": "96550504-9095-43f8-ba3c-f9976b21c52a"
      },
      "source": [
        "#download file\n",
        "#!wget -O taunt.wav  https://www2.cs.uic.edu/~i101/SoundFiles/taunt.wav\n",
        "\n",
        "A = decode_audio_file(\"/content/taunt.wav\", \"google\")\n",
        "print(\"GOOG: \", A)\n",
        "\n",
        "B = decode_audio_file(\"/content/taunt.wav\", \"sphinx\")\n",
        "print(\"SPHI: \", B)\n",
        "\n",
        "#As you can see from the output, google engine failed, while sphinx can still do it."
      ],
      "execution_count": 42,
      "outputs": [
        {
          "output_type": "stream",
          "text": [
            "google  Speech Recognition could not understand audio\n",
            "GOOG:  \n",
            "SPHI:  now go away or actual been doing it they didn't have none\n"
          ],
          "name": "stdout"
        }
      ]
    }
  ]
}