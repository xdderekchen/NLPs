{
  "nbformat": 4,
  "nbformat_minor": 0,
  "metadata": {
    "colab": {
      "name": "Test_API_IXINBUY.ipynb",
      "provenance": [],
      "toc_visible": true,
      "authorship_tag": "ABX9TyNiTDSUbXtL0p0KXNDrm+mf",
      "include_colab_link": true
    },
    "kernelspec": {
      "name": "python3",
      "display_name": "Python 3"
    }
  },
  "cells": [
    {
      "cell_type": "markdown",
      "metadata": {
        "id": "view-in-github",
        "colab_type": "text"
      },
      "source": [
        "<a href=\"https://colab.research.google.com/github/xdderekchen/NLPs/blob/master/Test_API_IXINBUY.ipynb\" target=\"_parent\"><img src=\"https://colab.research.google.com/assets/colab-badge.svg\" alt=\"Open In Colab\"/></a>"
      ]
    },
    {
      "cell_type": "markdown",
      "metadata": {
        "id": "pfJYQa0CA33L",
        "colab_type": "text"
      },
      "source": [
        "# Demonstation of Web API of ixinbuy.com\n",
        "\n",
        "ixinbuy.com provides Web API for users to access the powerful block-chain based services.\n",
        "\n",
        "This post has 2 purposes:\n",
        " 1. Samples for API calls\n",
        " 2. Testing of API and the webservice"
      ]
    },
    {
      "cell_type": "markdown",
      "metadata": {
        "id": "XwTmhZZsDMfa",
        "colab_type": "text"
      },
      "source": [
        "\n",
        "In this version, we will test the following 3 functions\n",
        " * **(POST)** http://ixinbuy.com/register\n",
        " * **(POST)** http://ixinbuy.com/uploaddata\n",
        " * **(GET)**  http://ixinbuy.com/getshareddata"
      ]
    },
    {
      "cell_type": "markdown",
      "metadata": {
        "id": "-LOzudGblJB6",
        "colab_type": "text"
      },
      "source": [
        "##  1 register"
      ]
    },
    {
      "cell_type": "code",
      "metadata": {
        "id": "M9DQPiQMAo82",
        "colab_type": "code",
        "colab": {
          "base_uri": "https://localhost:8080/",
          "height": 51
        },
        "outputId": "a867a5b2-1ae3-498c-b3db-57ce654b7f57"
      },
      "source": [
        "# http://ixinbuy.com/register\n",
        "\n",
        "import requests\n",
        "import json\n",
        "\n",
        "URL = \"http://ixinbuy.com/register\"\n",
        "\n",
        "payload = {\"device_id\":\"XD12345\"}\n",
        "\n",
        "#Passing payload as dict\n",
        "responce = requests.post(URL, data = payload)\n",
        "print(responce.status_code)\n",
        "\n",
        "#Passing payload as json string\n",
        "payload = '{\"device_id\":\"XD12345\"}'\n",
        "responce = requests.post(URL, json = json.loads(payload))\n",
        "print(responce.status_code)"
      ],
      "execution_count": 5,
      "outputs": [
        {
          "output_type": "stream",
          "text": [
            "200\n",
            "200\n"
          ],
          "name": "stdout"
        }
      ]
    },
    {
      "cell_type": "markdown",
      "metadata": {
        "id": "uYsVg7AblP9V",
        "colab_type": "text"
      },
      "source": [
        "## 2.1  uploaddata (single)"
      ]
    },
    {
      "cell_type": "code",
      "metadata": {
        "id": "RHFuaOB5lbWt",
        "colab_type": "code",
        "colab": {
          "base_uri": "https://localhost:8080/",
          "height": 34
        },
        "outputId": "76b3e21c-bf4f-427a-bbc2-02f0b0abedef"
      },
      "source": [
        "# http://ixinbuy.com/uploaddata\n",
        "\n",
        "import requests\n",
        "import json\n",
        "\n",
        "URL = \"http://ixinbuy.com/uploaddata\"\n",
        "\n",
        "# data_type\": 2 for COVID19 data\n",
        "payload = {\n",
        "   \"data_type\": 2, \n",
        "   \"data\": {\n",
        "       \"device_id\": \"XD12345\",\n",
        "       \"device_data\": {\n",
        "          \"province_state\": \"Guangdong\",\n",
        "          \"country_region\": \"Mainland China\",\n",
        "          \"last_update\": \"2020-03-07T10:43:02\",\n",
        "          \"confirmed\":1352,\n",
        "          \"deaths\": 7,\n",
        "          \"recovered\": 1237,\n",
        "          \"latitude\":  23.3417,\n",
        "          \"longitude\": 113.4244\n",
        "       }\n",
        "   }\n",
        "}\n",
        "\n",
        "#Passing payload as dict\n",
        "responce = requests.post(URL, data = payload)\n",
        "print(responce.status_code)"
      ],
      "execution_count": 8,
      "outputs": [
        {
          "output_type": "stream",
          "text": [
            "200\n"
          ],
          "name": "stdout"
        }
      ]
    },
    {
      "cell_type": "markdown",
      "metadata": {
        "id": "r2NSZ6OPlZj1",
        "colab_type": "text"
      },
      "source": [
        "##2.2  uploadeddata (batch)\n",
        "\n",
        "In here, we will pull real data from John Hopkins and invoke the webservice call.\n",
        "\n",
        "The data of John Hopkins is at \"https://raw.githubusercontent.com/CSSEGISandData/COVID-19/master/csse_covid_19_data/csse_covid_19_daily_reports\"\n",
        "\n",
        "def uploaddata(source_file):\n",
        "   \n",
        "    "
      ]
    },
    {
      "cell_type": "code",
      "metadata": {
        "id": "bwePgs98tlpQ",
        "colab_type": "code",
        "colab": {
          "base_uri": "https://localhost:8080/",
          "height": 139
        },
        "outputId": "912e5c47-7985-4085-8580-0db287672dfa"
      },
      "source": [
        "import pandas as pd\n",
        "import os\n",
        "import requests\n",
        "import json\n",
        "\n",
        "def uploaddata(source_file, URL):\n",
        "    print(\"processing: \", source_file)\n",
        "    df = pd.read_csv(source_file)\n",
        "    print(df.shape)\n",
        "    df.rename(columns={'Province/State': 'province_state',\n",
        "                       'Country/Region': 'country_region',\n",
        "                       'Last Update'   : 'last_update',\n",
        "                       'Confirmed':      'confirmed',\n",
        "                       'Deaths':         'deaths',\n",
        "                       \"Recovered\":      \"recovered\",\n",
        "                       \"Latitude\":       \"latitude\",\n",
        "                       \"Longitude\":      \"longitude\"\n",
        "                      }, inplace=True)\n",
        "    \n",
        "    for i in range(0,  df.shape[0]):\n",
        "        row = df.iloc[i]\n",
        "        row_as_dic = row.to_dict()\n",
        "        payload = {\n",
        "           \"data_type\": 2, \n",
        "           \"data\": {\n",
        "              \"device_id\": \"XD12345\",\n",
        "              \"device_data\": row_as_dic\n",
        "           }\n",
        "        }\n",
        "        responce = requests.post(URL, data = payload)\n",
        "        errorCount = 0\n",
        "        if responce.status_code == 200:\n",
        "           if (i % 100==0):\n",
        "              print(i, \"\", end='', flush=True)\n",
        "        else:\n",
        "              errorCount += 1\n",
        "              print(\"\\nError \", i , \" with \", responce.status_code, flush=True)\n",
        "    print(f\"\\nProcessed {i+1} of records\")\n",
        "    return (errorCount)\n",
        "      \n",
        "       \n",
        "\n",
        "github_root = \"https://raw.githubusercontent.com/CSSEGISandData/COVID-19/master/csse_covid_19_data/csse_covid_19_daily_reports\"\n",
        "file = os.path.join(github_root, \"03-15-2020\" + \".csv\")\n",
        "\n",
        "%timeit -n1 -r1 d = uploaddata(file, \"http://ixinbuy.com/uploaddata\")\n",
        "print(d)\n"
      ],
      "execution_count": 48,
      "outputs": [
        {
          "output_type": "stream",
          "text": [
            "processing:  https://raw.githubusercontent.com/CSSEGISandData/COVID-19/master/csse_covid_19_data/csse_covid_19_daily_reports/03-15-2020.csv\n",
            "(258, 8)\n",
            "0 100 200 \n",
            "Processed 258 of records\n",
            "1 loop, best of 1: 37.8 s per loop\n",
            "0\n"
          ],
          "name": "stdout"
        }
      ]
    },
    {
      "cell_type": "markdown",
      "metadata": {
        "id": "L4xwNcbBlW6N",
        "colab_type": "text"
      },
      "source": [
        "## 3 getshareddata"
      ]
    },
    {
      "cell_type": "code",
      "metadata": {
        "id": "EnWXAQR0B3Xj",
        "colab_type": "code",
        "colab": {
          "base_uri": "https://localhost:8080/",
          "height": 68
        },
        "outputId": "73e3b805-44a7-469b-bde9-6555738e8034"
      },
      "source": [
        "import pandas as pd\n",
        "import os\n",
        "import requests\n",
        "import json\n",
        "\n",
        "payload = '''\n",
        "{\n",
        "  \"data_type\": 2,\n",
        "  \"device_id\":\"XD12345\"\n",
        "}\n",
        "'''\n",
        "\n",
        "req = requests.request('GET', 'http://ixinbuy.com/getshareddata', \n",
        "                       json = json.loads(payload))\n",
        "\n",
        "print(req)\n",
        "data = req.json() \n",
        "for i, item in enumerate(data):\n",
        "  print(i, item)\n",
        "\n",
        "df = pd.DataFrame(data)\n",
        "df\n"
      ],
      "execution_count": 53,
      "outputs": [
        {
          "output_type": "stream",
          "text": [
            "<Response [200]>\n",
            "0 message\n",
            "1 stack\n"
          ],
          "name": "stdout"
        }
      ]
    }
  ]
}