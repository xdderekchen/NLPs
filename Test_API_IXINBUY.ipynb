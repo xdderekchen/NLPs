{
  "nbformat": 4,
  "nbformat_minor": 0,
  "metadata": {
    "colab": {
      "name": "Test_API_IXINBUY.ipynb",
      "provenance": [],
      "toc_visible": true,
      "authorship_tag": "ABX9TyMthod90Hgu8QGnPGcXp/uB",
      "include_colab_link": true
    },
    "kernelspec": {
      "name": "python3",
      "display_name": "Python 3"
    }
  },
  "cells": [
    {
      "cell_type": "markdown",
      "metadata": {
        "id": "view-in-github",
        "colab_type": "text"
      },
      "source": [
        "<a href=\"https://colab.research.google.com/github/xdderekchen/NLPs/blob/master/Test_API_IXINBUY.ipynb\" target=\"_parent\"><img src=\"https://colab.research.google.com/assets/colab-badge.svg\" alt=\"Open In Colab\"/></a>"
      ]
    },
    {
      "cell_type": "markdown",
      "metadata": {
        "id": "pfJYQa0CA33L",
        "colab_type": "text"
      },
      "source": [
        "# Demonstation of Web API of ixinbuy.com\n",
        "\n",
        "ixinbuy.com provides Web API for users to access the powerful block-chain based services.\n",
        "\n",
        "This post has 2 purposes:\n",
        " 1. Samples for API calls\n",
        " 2. Testing of API and the webservice"
      ]
    },
    {
      "cell_type": "markdown",
      "metadata": {
        "id": "XwTmhZZsDMfa",
        "colab_type": "text"
      },
      "source": [
        "## 1.1. Version 1\n",
        "\n",
        "In this version, we will test the following 3 functions\n",
        " * **(POST)** http://ixinbuy.com/register\n",
        " * **(POST)** http://ixinbuy.com/uploaddata\n",
        " * **(GET)**  http://ixinbuy.com/getshareddata"
      ]
    },
    {
      "cell_type": "markdown",
      "metadata": {
        "id": "-LOzudGblJB6",
        "colab_type": "text"
      },
      "source": [
        "### register"
      ]
    },
    {
      "cell_type": "code",
      "metadata": {
        "id": "M9DQPiQMAo82",
        "colab_type": "code",
        "outputId": "ed12caa8-9a24-417b-ebc9-aa44bee37b9f",
        "colab": {
          "base_uri": "https://localhost:8080/",
          "height": 85
        }
      },
      "source": [
        "# http://ixinbuy.com/register\n",
        "\n",
        "import requests\n",
        "import json\n",
        "\n",
        "URL = \"http://ixinbuy.com/register\"\n",
        "\n",
        "payload = {\"device_id\":\"XD12345\"}\n",
        "\n",
        "#Passing payload as dict\n",
        "responce = requests.post(URL, data = payload)\n",
        "print(responce.status_code)\n",
        "print(responce.text)\n",
        "\n",
        "\n",
        "#Passing payload as json string\n",
        "payload = '{\"device_id\":\"XD12345\"}'\n",
        "responce = requests.post(URL, json = json.loads(payload))\n",
        "print(responce.status_code)\n",
        "print(responce.text)"
      ],
      "execution_count": 0,
      "outputs": [
        {
          "output_type": "stream",
          "text": [
            "200\n",
            "true\n",
            "200\n",
            "true\n"
          ],
          "name": "stdout"
        }
      ]
    },
    {
      "cell_type": "markdown",
      "metadata": {
        "id": "uYsVg7AblP9V",
        "colab_type": "text"
      },
      "source": [
        "### uploaddata (single)"
      ]
    },
    {
      "cell_type": "code",
      "metadata": {
        "id": "RHFuaOB5lbWt",
        "colab_type": "code",
        "outputId": "77426549-23af-40ca-d068-3c8a6aeff8a4",
        "colab": {
          "base_uri": "https://localhost:8080/",
          "height": 71
        }
      },
      "source": [
        "# http://ixinbuy.com/uploaddata\n",
        "\n",
        "import requests\n",
        "import json\n",
        "\n",
        "URL = \"http://ixinbuy.com/uploaddata\"\n",
        "\n",
        "# data_type\": 2 for COVID19 data\n",
        "payload = {\n",
        "   \"data_type\": 2, \n",
        "   \"data\": {\n",
        "       \"device_id\": \"XD12345\",\n",
        "       \"device_data00\": {\n",
        "          \"date\": \"2020-01-07\",\n",
        "          \"province_state\": \"Shanghai00\",\n",
        "          \"country_region\": \"Mainland China\",\n",
        "          \"last_update\": \"2020-03-07T10:43:02\",\n",
        "          \"confirmed\":100,\n",
        "          \"deaths\": 7,\n",
        "          \"recovered\": 1237,\n",
        "          \"latitude\":  23.3417,\n",
        "          \"longitude\": 113.4244\n",
        "       }\n",
        "   }\n",
        "}\n",
        "\n",
        "\n",
        "#Passing payload as dict\n",
        "responce = requests.post(URL, json = payload)\n",
        "print(responce.status_code)\n",
        "print(responce.text)\n"
      ],
      "execution_count": 0,
      "outputs": [
        {
          "output_type": "stream",
          "text": [
            "200\n",
            "{\"message\":\"Cannot read property 'province_state' of undefined\",\"stack\":\"TypeError: Cannot read property 'province_state' of undefined\\n    at /home/uadmin/fabric-samples/medicalnet/fabric_api/routes/routes.js:58:60\"}\n"
          ],
          "name": "stdout"
        }
      ]
    },
    {
      "cell_type": "markdown",
      "metadata": {
        "id": "r2NSZ6OPlZj1",
        "colab_type": "text"
      },
      "source": [
        "### uploaddata (batch)\n",
        "\n",
        "In here, we will pull real data from John Hopkins and invoke the webservice call.\n",
        "\n",
        "The data of John Hopkins is at \"https://raw.githubusercontent.com/CSSEGISandData/COVID-19/master/csse_covid_19_data/csse_covid_19_daily_reports\"\n",
        "    "
      ]
    },
    {
      "cell_type": "code",
      "metadata": {
        "id": "bwePgs98tlpQ",
        "colab_type": "code",
        "outputId": "53893039-af7e-4b6c-aaca-0476028eee04",
        "colab": {
          "base_uri": "https://localhost:8080/",
          "height": 85
        }
      },
      "source": [
        "import pandas as pd\n",
        "import os\n",
        "import requests\n",
        "import json\n",
        "\n",
        "def uploaddata(source_file, URL, data_date):\n",
        "    print(\"processing: \", source_file)\n",
        "    df = pd.read_csv(source_file)\n",
        "   \n",
        "    df.rename(columns={'Province/State': 'province_state',\n",
        "                       'Country/Region': 'country_region',\n",
        "                       'Last Update'   : 'last_update',\n",
        "                       'Confirmed':      'confirmed',\n",
        "                       'Deaths':         'deaths',\n",
        "                       \"Recovered\":      \"recovered\",\n",
        "                       \"Latitude\":       \"latitude\",\n",
        "                       \"Longitude\":      \"longitude\"\n",
        "                      }, inplace=True)\n",
        "  \n",
        "    for i in range(0, df.shape[0])  :####df.itertuples(index=False):\n",
        "      \n",
        "        row = df.iloc[i]\n",
        "        #row_as_dic = row.to_dict()\n",
        "       \n",
        "        device_data = {\"date\":data_date }\n",
        "        device_data.update(json.loads(row.to_json()))\n",
        "       \n",
        "        payload = {\n",
        "           \"data_type\": 2, \n",
        "           \"data\": {\n",
        "              \"device_id\": \"XD12345\",\n",
        "              \"device_data\": device_data\n",
        "           }\n",
        "        }\n",
        "        #print(payload)\n",
        "        responce = requests.post(URL, json = payload)\n",
        "        errorCount = 0\n",
        "        \n",
        "        if (responce.status_code == 200) and ( responce.text == \"true\"):\n",
        "           if (i % 10==0):\n",
        "              print(i, \"\", end='', flush=True)\n",
        "        else:\n",
        "              errorCount += 1\n",
        "              print(\"\\nError \", i , \" with \", responce.text, flush=True)\n",
        "\n",
        "    print(f\"\\nProcessed {i+3} of records\")\n",
        "    return (errorCount)\n",
        "      \n",
        "       \n",
        "\n",
        "github_root = \"https://raw.githubusercontent.com/CSSEGISandData/COVID-19/master/csse_covid_19_data/csse_covid_19_daily_reports\"\n",
        "\n",
        "\n",
        "file = os.path.join(github_root, \"03-18-2020\" + \".csv\")\n",
        "\n",
        "import time\n",
        "ts = time.time()\n",
        "d = uploaddata(file, \"http://ixinbuy.com/uploaddata\", \"2020-03-18\")\n",
        "te = time.time()\n",
        "print('%s  %2.2f sec' % (\"uploaddata\", (te - ts) ))\n",
        " \n"
      ],
      "execution_count": 2,
      "outputs": [
        {
          "output_type": "stream",
          "text": [
            "processing:  https://raw.githubusercontent.com/CSSEGISandData/COVID-19/master/csse_covid_19_data/csse_covid_19_daily_reports/03-18-2020.csv\n",
            "0 10 20 30 40 50 60 70 80 90 100 110 120 130 140 150 160 170 180 190 200 210 220 230 240 250 260 270 280 \n",
            "Processed 286 of records\n",
            "uploaddata  1530.17 sec\n"
          ],
          "name": "stdout"
        }
      ]
    },
    {
      "cell_type": "markdown",
      "metadata": {
        "id": "L4xwNcbBlW6N",
        "colab_type": "text"
      },
      "source": [
        "### getshareddata (GET)\n",
        "\n",
        "This is the method to retrieve data from server\n",
        "\n"
      ]
    },
    {
      "cell_type": "code",
      "metadata": {
        "id": "DgTU5eTHxl_M",
        "colab_type": "code",
        "outputId": "ad577471-66aa-40e0-abb8-1e29bac152aa",
        "colab": {
          "base_uri": "https://localhost:8080/",
          "height": 686
        }
      },
      "source": [
        "import pandas as pd\n",
        "import os\n",
        "import requests\n",
        "import json\n",
        "\n",
        "query = {\"data_type\": 2, \"device_id\":\"XD12345\", \"from_date\": \"2020-03-19\"}\n",
        "\n",
        "req = requests.get('http://ixinbuy.com/getshareddata', params=query)\n",
        "print(req.url)\n",
        "\n",
        "data = req.json()\n",
        "\n",
        "df = pd.DataFrame(data)\n",
        "df = df[~df['country_region'].isin([\"China000\", \"China111\"])]\n",
        "df = df.drop_duplicates(subset=[\"country_region\", \"province_state\", \"date\" ], keep='last')\n",
        "#df = df.query('country_region==\"Italy\"')\n",
        "\n",
        "df_agg=df.groupby([\"country_region\", \"date\"]).agg({'confirmed': ['sum'], 'deaths': ['sum'], 'recovered': ['sum']})\n",
        "df_agg.columns = ['confirmed', 'deaths', 'recovered']\n",
        "df_agg.reset_index(inplace=True)\n",
        "\n",
        "df_agg[\"fatal_rate\"] = df_agg[\"deaths\"] / df_agg[\"confirmed\"]\n",
        "\n",
        "df_confirm = df_agg.sort_values(by='confirmed', ascending=False).head(20)\n",
        "\n",
        "df_confirm"
      ],
      "execution_count": 48,
      "outputs": [
        {
          "output_type": "stream",
          "text": [
            "http://ixinbuy.com/getshareddata?data_type=2&device_id=XD12345&from_date=2020-03-19\n"
          ],
          "name": "stdout"
        },
        {
          "output_type": "execute_result",
          "data": {
            "text/html": [
              "<div>\n",
              "<style scoped>\n",
              "    .dataframe tbody tr th:only-of-type {\n",
              "        vertical-align: middle;\n",
              "    }\n",
              "\n",
              "    .dataframe tbody tr th {\n",
              "        vertical-align: top;\n",
              "    }\n",
              "\n",
              "    .dataframe thead th {\n",
              "        text-align: right;\n",
              "    }\n",
              "</style>\n",
              "<table border=\"1\" class=\"dataframe\">\n",
              "  <thead>\n",
              "    <tr style=\"text-align: right;\">\n",
              "      <th></th>\n",
              "      <th>country_region</th>\n",
              "      <th>date</th>\n",
              "      <th>confirmed</th>\n",
              "      <th>deaths</th>\n",
              "      <th>recovered</th>\n",
              "      <th>fatal_rate</th>\n",
              "    </tr>\n",
              "  </thead>\n",
              "  <tbody>\n",
              "    <tr>\n",
              "      <th>31</th>\n",
              "      <td>China</td>\n",
              "      <td>2020-03-19T00:00:00.000Z</td>\n",
              "      <td>81156</td>\n",
              "      <td>3249</td>\n",
              "      <td>70535</td>\n",
              "      <td>0.040034</td>\n",
              "    </tr>\n",
              "    <tr>\n",
              "      <th>79</th>\n",
              "      <td>Italy</td>\n",
              "      <td>2020-03-19T00:00:00.000Z</td>\n",
              "      <td>41035</td>\n",
              "      <td>3405</td>\n",
              "      <td>4440</td>\n",
              "      <td>0.082978</td>\n",
              "    </tr>\n",
              "    <tr>\n",
              "      <th>75</th>\n",
              "      <td>Iran</td>\n",
              "      <td>2020-03-19T00:00:00.000Z</td>\n",
              "      <td>18407</td>\n",
              "      <td>1284</td>\n",
              "      <td>5710</td>\n",
              "      <td>0.069756</td>\n",
              "    </tr>\n",
              "    <tr>\n",
              "      <th>144</th>\n",
              "      <td>Spain</td>\n",
              "      <td>2020-03-19T00:00:00.000Z</td>\n",
              "      <td>17963</td>\n",
              "      <td>830</td>\n",
              "      <td>1107</td>\n",
              "      <td>0.046206</td>\n",
              "    </tr>\n",
              "    <tr>\n",
              "      <th>59</th>\n",
              "      <td>Germany</td>\n",
              "      <td>2020-03-19T00:00:00.000Z</td>\n",
              "      <td>15320</td>\n",
              "      <td>44</td>\n",
              "      <td>113</td>\n",
              "      <td>0.002872</td>\n",
              "    </tr>\n",
              "    <tr>\n",
              "      <th>159</th>\n",
              "      <td>US</td>\n",
              "      <td>2020-03-19T00:00:00.000Z</td>\n",
              "      <td>13680</td>\n",
              "      <td>200</td>\n",
              "      <td>108</td>\n",
              "      <td>0.014620</td>\n",
              "    </tr>\n",
              "    <tr>\n",
              "      <th>54</th>\n",
              "      <td>France</td>\n",
              "      <td>2020-03-19T00:00:00.000Z</td>\n",
              "      <td>10886</td>\n",
              "      <td>243</td>\n",
              "      <td>12</td>\n",
              "      <td>0.022322</td>\n",
              "    </tr>\n",
              "    <tr>\n",
              "      <th>86</th>\n",
              "      <td>Korea, South</td>\n",
              "      <td>2020-03-19T00:00:00.000Z</td>\n",
              "      <td>8565</td>\n",
              "      <td>91</td>\n",
              "      <td>1540</td>\n",
              "      <td>0.010625</td>\n",
              "    </tr>\n",
              "    <tr>\n",
              "      <th>149</th>\n",
              "      <td>Switzerland</td>\n",
              "      <td>2020-03-19T00:00:00.000Z</td>\n",
              "      <td>4075</td>\n",
              "      <td>41</td>\n",
              "      <td>15</td>\n",
              "      <td>0.010061</td>\n",
              "    </tr>\n",
              "    <tr>\n",
              "      <th>162</th>\n",
              "      <td>United Kingdom</td>\n",
              "      <td>2020-03-19T00:00:00.000Z</td>\n",
              "      <td>2716</td>\n",
              "      <td>138</td>\n",
              "      <td>67</td>\n",
              "      <td>0.050810</td>\n",
              "    </tr>\n",
              "    <tr>\n",
              "      <th>111</th>\n",
              "      <td>Netherlands</td>\n",
              "      <td>2020-03-19T00:00:00.000Z</td>\n",
              "      <td>2465</td>\n",
              "      <td>77</td>\n",
              "      <td>2</td>\n",
              "      <td>0.031237</td>\n",
              "    </tr>\n",
              "    <tr>\n",
              "      <th>9</th>\n",
              "      <td>Austria</td>\n",
              "      <td>2020-03-19T00:00:00.000Z</td>\n",
              "      <td>2013</td>\n",
              "      <td>6</td>\n",
              "      <td>9</td>\n",
              "      <td>0.002981</td>\n",
              "    </tr>\n",
              "    <tr>\n",
              "      <th>16</th>\n",
              "      <td>Belgium</td>\n",
              "      <td>2020-03-19T00:00:00.000Z</td>\n",
              "      <td>1795</td>\n",
              "      <td>21</td>\n",
              "      <td>31</td>\n",
              "      <td>0.011699</td>\n",
              "    </tr>\n",
              "    <tr>\n",
              "      <th>116</th>\n",
              "      <td>Norway</td>\n",
              "      <td>2020-03-19T00:00:00.000Z</td>\n",
              "      <td>1746</td>\n",
              "      <td>7</td>\n",
              "      <td>1</td>\n",
              "      <td>0.004009</td>\n",
              "    </tr>\n",
              "    <tr>\n",
              "      <th>148</th>\n",
              "      <td>Sweden</td>\n",
              "      <td>2020-03-19T00:00:00.000Z</td>\n",
              "      <td>1439</td>\n",
              "      <td>11</td>\n",
              "      <td>16</td>\n",
              "      <td>0.007644</td>\n",
              "    </tr>\n",
              "    <tr>\n",
              "      <th>42</th>\n",
              "      <td>Denmark</td>\n",
              "      <td>2020-03-19T00:00:00.000Z</td>\n",
              "      <td>1225</td>\n",
              "      <td>6</td>\n",
              "      <td>1</td>\n",
              "      <td>0.004898</td>\n",
              "    </tr>\n",
              "    <tr>\n",
              "      <th>81</th>\n",
              "      <td>Japan</td>\n",
              "      <td>2020-03-19T00:00:00.000Z</td>\n",
              "      <td>924</td>\n",
              "      <td>29</td>\n",
              "      <td>150</td>\n",
              "      <td>0.031385</td>\n",
              "    </tr>\n",
              "    <tr>\n",
              "      <th>96</th>\n",
              "      <td>Malaysia</td>\n",
              "      <td>2020-03-19T00:00:00.000Z</td>\n",
              "      <td>900</td>\n",
              "      <td>2</td>\n",
              "      <td>75</td>\n",
              "      <td>0.002222</td>\n",
              "    </tr>\n",
              "    <tr>\n",
              "      <th>27</th>\n",
              "      <td>Canada</td>\n",
              "      <td>2020-03-19T00:00:00.000Z</td>\n",
              "      <td>800</td>\n",
              "      <td>9</td>\n",
              "      <td>9</td>\n",
              "      <td>0.011250</td>\n",
              "    </tr>\n",
              "    <tr>\n",
              "      <th>124</th>\n",
              "      <td>Portugal</td>\n",
              "      <td>2020-03-19T00:00:00.000Z</td>\n",
              "      <td>785</td>\n",
              "      <td>3</td>\n",
              "      <td>3</td>\n",
              "      <td>0.003822</td>\n",
              "    </tr>\n",
              "  </tbody>\n",
              "</table>\n",
              "</div>"
            ],
            "text/plain": [
              "     country_region                      date  ...  recovered  fatal_rate\n",
              "31            China  2020-03-19T00:00:00.000Z  ...      70535    0.040034\n",
              "79            Italy  2020-03-19T00:00:00.000Z  ...       4440    0.082978\n",
              "75             Iran  2020-03-19T00:00:00.000Z  ...       5710    0.069756\n",
              "144           Spain  2020-03-19T00:00:00.000Z  ...       1107    0.046206\n",
              "59          Germany  2020-03-19T00:00:00.000Z  ...        113    0.002872\n",
              "159              US  2020-03-19T00:00:00.000Z  ...        108    0.014620\n",
              "54           France  2020-03-19T00:00:00.000Z  ...         12    0.022322\n",
              "86     Korea, South  2020-03-19T00:00:00.000Z  ...       1540    0.010625\n",
              "149     Switzerland  2020-03-19T00:00:00.000Z  ...         15    0.010061\n",
              "162  United Kingdom  2020-03-19T00:00:00.000Z  ...         67    0.050810\n",
              "111     Netherlands  2020-03-19T00:00:00.000Z  ...          2    0.031237\n",
              "9           Austria  2020-03-19T00:00:00.000Z  ...          9    0.002981\n",
              "16          Belgium  2020-03-19T00:00:00.000Z  ...         31    0.011699\n",
              "116          Norway  2020-03-19T00:00:00.000Z  ...          1    0.004009\n",
              "148          Sweden  2020-03-19T00:00:00.000Z  ...         16    0.007644\n",
              "42          Denmark  2020-03-19T00:00:00.000Z  ...          1    0.004898\n",
              "81            Japan  2020-03-19T00:00:00.000Z  ...        150    0.031385\n",
              "96         Malaysia  2020-03-19T00:00:00.000Z  ...         75    0.002222\n",
              "27           Canada  2020-03-19T00:00:00.000Z  ...          9    0.011250\n",
              "124        Portugal  2020-03-19T00:00:00.000Z  ...          3    0.003822\n",
              "\n",
              "[20 rows x 6 columns]"
            ]
          },
          "metadata": {
            "tags": []
          },
          "execution_count": 48
        }
      ]
    },
    {
      "cell_type": "markdown",
      "metadata": {
        "id": "pJlBN36Aa_MJ",
        "colab_type": "text"
      },
      "source": [
        "#### visualization"
      ]
    },
    {
      "cell_type": "code",
      "metadata": {
        "id": "XJcwkKoZbKeb",
        "colab_type": "code",
        "colab": {
          "base_uri": "https://localhost:8080/",
          "height": 861
        },
        "outputId": "676de9ff-5377-4ac4-ca96-9b133a12b301"
      },
      "source": [
        "import seaborn as sns\n",
        "import matplotlib.pyplot as plt\n",
        "sns.set(style=\"whitegrid\")\n",
        "\n",
        "df_fatal_rate = df_confirm.sort_values(by='fatal_rate', ascending=False)\n",
        "\n",
        "# Initialize the matplotlib figure\n",
        "f, (ax1, ax2) = plt.subplots(figsize=(16, 14), ncols=2)\n",
        "\n",
        "\n",
        "sns.barplot(x=\"confirmed\", y=\"country_region\", data=df_confirm,\n",
        "            label=\"confirmed\", color=\"b\",  ax=ax1)\n",
        "ax1.set_title(\"Top 20 countries by the number of confirmed cases\")\n",
        "\n",
        "sns.barplot(x=\"fatal_rate\", y=\"country_region\", data=df_fatal_rate,\n",
        "            label=\"confatal_ratefirmed\", color=\"y\",  ax=ax2)\n",
        "ax2.set_title(\"Fatal Rate, for top 20 countries by the number of confirmed cases\")"
      ],
      "execution_count": 51,
      "outputs": [
        {
          "output_type": "execute_result",
          "data": {
            "text/plain": [
              "Text(0.5, 1.0, 'Fatal Rate, for top 20 countries by the number of confirmed cases')"
            ]
          },
          "metadata": {
            "tags": []
          },
          "execution_count": 51
        },
        {
          "output_type": "display_data",
          "data": {
            "image/png": "[encoded data removed]",
            "text/plain": [
              "<Figure size 1152x1008 with 2 Axes>"
            ]
          },
          "metadata": {
            "tags": []
          }
        }
      ]
    }
  ]
}